{
  "cells": [
    {
      "cell_type": "markdown",
      "metadata": {
        "colab_type": "text",
        "id": "view-in-github"
      },
      "source": [
        "<a href=\"https://colab.research.google.com/github/Elinengu/openspiel-playground/blob/master/open_spiel/colabs/install_open_spiel.ipynb\" target=\"_parent\"><img src=\"https://colab.research.google.com/assets/colab-badge.svg\" alt=\"Open In Colab\"/></a>"
      ]
    },
    {
      "cell_type": "code",
      "execution_count": 2,
      "metadata": {
        "id": "odj1Coq5H080"
      },
      "outputs": [],
      "source": [
        "#@title ##### License { display-mode: \"form\" }\n",
        "# Copyright 2019 DeepMind Technologies Ltd. All rights reserved.\n",
        "#\n",
        "# Licensed under the Apache License, Version 2.0 (the \"License\");\n",
        "# you may not use this file except in compliance with the License.\n",
        "# You may obtain a copy of the License at\n",
        "#\n",
        "#     http://www.apache.org/licenses/LICENSE-2.0\n",
        "#\n",
        "# Unless required by applicable law or agreed to in writing, software\n",
        "# distributed under the License is distributed on an \"AS IS\" BASIS,\n",
        "# WITHOUT WARRANTIES OR CONDITIONS OF ANY KIND, either express or implied.\n",
        "# See the License for the specific language governing permissions and\n",
        "# limitations under the License."
      ]
    },
    {
      "cell_type": "markdown",
      "metadata": {
        "id": "dOOzDGYAZcW3"
      },
      "source": [
        "# OpenSpiel\n",
        "\n",
        "* This Colab gets you started with installing OpenSpiel and its dependencies.\n",
        "* OpenSpiel is a framework for reinforcement learning in games.\n",
        "* The instructions are adapted from [here](https://github.com/deepmind/open_spiel/blob/master/docs/install.md)."
      ]
    },
    {
      "cell_type": "markdown",
      "metadata": {
        "id": "XC6kQBzWahEF"
      },
      "source": [
        "## Install"
      ]
    },
    {
      "cell_type": "markdown",
      "metadata": {
        "id": "-2_Vbijh4FlZ"
      },
      "source": [
        "Install OpenSpiel via pip:\n"
      ]
    },
    {
      "cell_type": "code",
      "execution_count": 1,
      "metadata": {
        "colab": {
          "base_uri": "https://localhost:8080/"
        },
        "id": "lQc12Xrn4CXU",
        "outputId": "c5d2047f-a376-4e91-b486-7ee976888ae5"
      },
      "outputs": [
        {
          "name": "stdout",
          "output_type": "stream",
          "text": [
            "Collecting open_spiel\n",
            "  Using cached open_spiel-1.6.1-cp312-cp312-manylinux_2_17_x86_64.manylinux2014_x86_64.whl.metadata (5.1 kB)\n",
            "Requirement already satisfied: pip>=20.0.2 in /home/elinengu/open_spiel/.venv/lib/python3.12/site-packages (from open_spiel) (25.2)\n",
            "Requirement already satisfied: attrs>=19.3.0 in /home/elinengu/open_spiel/.venv/lib/python3.12/site-packages (from open_spiel) (25.3.0)\n",
            "Requirement already satisfied: absl-py>=0.10.0 in /home/elinengu/open_spiel/.venv/lib/python3.12/site-packages (from open_spiel) (2.3.1)\n",
            "Requirement already satisfied: numpy>=1.21.5 in /home/elinengu/open_spiel/.venv/lib/python3.12/site-packages (from open_spiel) (2.3.2)\n",
            "Requirement already satisfied: scipy>=1.10.1 in /home/elinengu/open_spiel/.venv/lib/python3.12/site-packages (from open_spiel) (1.16.1)\n",
            "Requirement already satisfied: ml-collections>=0.1.1 in /home/elinengu/open_spiel/.venv/lib/python3.12/site-packages (from open_spiel) (1.1.0)\n",
            "Requirement already satisfied: PyYAML in /home/elinengu/open_spiel/.venv/lib/python3.12/site-packages (from ml-collections>=0.1.1->open_spiel) (6.0.2)\n",
            "Using cached open_spiel-1.6.1-cp312-cp312-manylinux_2_17_x86_64.manylinux2014_x86_64.whl (6.6 MB)\n",
            "Installing collected packages: open_spiel\n",
            "Successfully installed open_spiel-1.6.1\n"
          ]
        }
      ],
      "source": [
        "!pip install --upgrade open_spiel"
      ]
    },
    {
      "cell_type": "markdown",
      "metadata": {
        "id": "jUtlXZ8FBnAL"
      },
      "source": [
        "# It's play time!"
      ]
    },
    {
      "cell_type": "code",
      "execution_count": 3,
      "metadata": {
        "colab": {
          "base_uri": "https://localhost:8080/"
        },
        "id": "ewMXCaUw8d9Q",
        "outputId": "000a9567-1975-4511-f630-ba0064b0708a"
      },
      "outputs": [
        {
          "name": "stdout",
          "output_type": "stream",
          "text": [
            "...\n",
            ".x.\n",
            "...\n",
            "\n",
            "...\n",
            "ox.\n",
            "...\n",
            "\n",
            "x..\n",
            "ox.\n",
            "...\n",
            "\n",
            "x..\n",
            "ox.\n",
            ".o.\n",
            "\n",
            "x..\n",
            "ox.\n",
            "xo.\n",
            "\n",
            "xo.\n",
            "ox.\n",
            "xo.\n",
            "\n",
            "xo.\n",
            "ox.\n",
            "xox\n",
            "\n"
          ]
        }
      ],
      "source": [
        "import numpy as np\n",
        "import pyspiel\n",
        "\n",
        "game = pyspiel.load_game(\"tic_tac_toe\")\n",
        "state = game.new_initial_state()\n",
        "\n",
        "while not state.is_terminal():\n",
        "  state.apply_action(np.random.choice(state.legal_actions()))\n",
        "  print(str(state) + '\\n')"
      ]
    }
  ],
  "metadata": {
    "accelerator": "GPU",
    "colab": {
      "include_colab_link": true,
      "name": "install_open_spiel.ipynb",
      "provenance": []
    },
    "kernelspec": {
      "display_name": "Python (OpenSpiel .venv)",
      "language": "python",
      "name": "open-spiel-dev"
    },
    "language_info": {
      "codemirror_mode": {
        "name": "ipython",
        "version": 3
      },
      "file_extension": ".py",
      "mimetype": "text/x-python",
      "name": "python",
      "nbconvert_exporter": "python",
      "pygments_lexer": "ipython3",
      "version": "3.12.3"
    }
  },
  "nbformat": 4,
  "nbformat_minor": 0
}
